{
 "cells": [
  {
   "cell_type": "code",
   "execution_count": null,
   "metadata": {},
   "outputs": [],
   "source": [
    "import numpy as np\n",
    "\n",
    "import plotly\n",
    "import plotly.graph_objs as go\n",
    "plotly.offline.init_notebook_mode()\n",
    "\n",
    "from input_pipeline import PointClouds"
   ]
  },
  {
   "cell_type": "code",
   "execution_count": null,
   "metadata": {},
   "outputs": [],
   "source": [
    "labels = ['02691156']\n",
    "dataset_path = '/home/dan/datasets/shape_net_core_uniform_samples_2048/'\n",
    "data = PointClouds(dataset_path, labels, is_training=True)"
   ]
  },
  {
   "cell_type": "code",
   "execution_count": null,
   "metadata": {},
   "outputs": [],
   "source": [
    "cloud = data[2000]\n",
    "\n",
    "trace = go.Scatter3d(\n",
    "    x=cloud[:, 0],\n",
    "    y=cloud[:, 1],\n",
    "    z=cloud[:, 2],\n",
    "    mode='markers',\n",
    "    marker={\n",
    "        'size': 3,\n",
    "        'opacity': 0.9,\n",
    "    }\n",
    ")\n",
    "\n",
    "layout = go.Layout(\n",
    "    margin={'l': 0, 'r': 0, 'b': 0, 't': 0}\n",
    ")\n",
    "\n",
    "plot_figure = go.Figure(data=[trace], layout=layout)\n",
    "plotly.offline.iplot(plot_figure)"
   ]
  }
 ],
 "metadata": {
  "kernelspec": {
   "display_name": "Python 3",
   "language": "python",
   "name": "python3"
  },
  "language_info": {
   "codemirror_mode": {
    "name": "ipython",
    "version": 3
   },
   "file_extension": ".py",
   "mimetype": "text/x-python",
   "name": "python",
   "nbconvert_exporter": "python",
   "pygments_lexer": "ipython3",
   "version": "3.6.7"
  }
 },
 "nbformat": 4,
 "nbformat_minor": 2
}
